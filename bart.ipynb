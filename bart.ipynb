{
 "cells": [
  {
   "cell_type": "markdown",
   "metadata": {},
   "source": [
    "## Loading Libraries"
   ]
  },
  {
   "cell_type": "code",
   "execution_count": 15,
   "metadata": {},
   "outputs": [],
   "source": [
    "from transformers import AutoTokenizer, BartForConditionalGeneration\n",
    "import torch\n",
    "from datasets import load_dataset\n",
    "import pandas as pd\n",
    "from rouge import Rouge\n",
    "from tqdm import tqdm"
   ]
  },
  {
   "cell_type": "markdown",
   "metadata": {},
   "source": [
    "## Loading model and tokenizer"
   ]
  },
  {
   "cell_type": "code",
   "execution_count": null,
   "metadata": {},
   "outputs": [
    {
     "name": "stdout",
     "output_type": "stream",
     "text": [
      "Using device: cuda\n"
     ]
    },
    {
     "name": "stderr",
     "output_type": "stream",
     "text": [
      "Truncation was not explicitly activated but `max_length` is provided a specific value, please use `truncation=True` to explicitly truncate examples to max length. Defaulting to 'longest_first' truncation strategy. If you encode pairs of sequences (GLUE-style) with the tokenizer you can select this strategy more precisely by providing a specific strategy to `truncation`.\n"
     ]
    },
    {
     "data": {
      "text/plain": [
       "'PG&E scheduled the blackouts in response to forecasts for high winds amid dry conditions'"
      ]
     },
     "execution_count": 5,
     "metadata": {},
     "output_type": "execute_result"
    }
   ],
   "source": [
    "\n",
    "model = BartForConditionalGeneration.from_pretrained(\"facebook/bart-large-cnn\")\n",
    "tokenizer = AutoTokenizer.from_pretrained(\"facebook/bart-large-cnn\")\n",
    "\n",
    "device = torch.device(\"cuda\" if torch.cuda.is_available() else \"cpu\")\n",
    "print(f\"Using device: {device}\")\n",
    "model = model.to(device)"
   ]
  },
  {
   "cell_type": "markdown",
   "metadata": {},
   "source": [
    "## Loading dataset"
   ]
  },
  {
   "cell_type": "code",
   "execution_count": null,
   "metadata": {},
   "outputs": [],
   "source": [
    "cnn_dataset = load_dataset(\"cnn_dailymail\",'3.0.0')\n",
    "train_dataset, validation_dataset, test_dataset = pd.DataFrame(cnn_dataset[\"train\"][:50000]), pd.DataFrame(cnn_dataset[\"validation\"][:10000]), pd.DataFrame(cnn_dataset[\"test\"][:10000])\n",
    "train_dataset[\"article\"] = \"summarize: \" + train_dataset[\"article\"]\n",
    "validation_dataset[\"article\"]=\"summarize: \" + validation_dataset[\"article\"]\n",
    "test_dataset[\"article\"]=\"summarize: \" + test_dataset[\"article\"]"
   ]
  },
  {
   "cell_type": "markdown",
   "metadata": {},
   "source": [
    "# Generating summarized texts"
   ]
  },
  {
   "cell_type": "code",
   "execution_count": 18,
   "metadata": {},
   "outputs": [
    {
     "name": "stderr",
     "output_type": "stream",
     "text": [
      "Processing rows: 100%|██████████| 10000/10000 [12:26<00:00, 13.39it/s]\n"
     ]
    }
   ],
   "source": [
    "resultdf = {\"actual_text\": [], \"generated_text\": []}\n",
    "curr = []\n",
    "for index, row in tqdm(validation_dataset.iterrows(), total=len(validation_dataset), desc=\"Processing rows\"):\n",
    "    curr.append(row[\"article\"])\n",
    "    resultdf[\"actual_text\"].append(row[\"highlights\"]) \n",
    "    if (index + 1) % 25 == 0:\n",
    "        inputs = tokenizer(curr, max_length=512, return_tensors=\"pt\", truncation=True, padding=True)\n",
    "        inputs = inputs.to(device)\n",
    "        summary_ids = model.generate(inputs[\"input_ids\"], num_beams=2, min_length=0, max_length=50)\n",
    "\n",
    "        text = tokenizer.batch_decode(summary_ids, skip_special_tokens=True, clean_up_tokenization_spaces=False)\n",
    "\n",
    "        resultdf[\"generated_text\"].extend(text)\n",
    "        curr = []\n",
    "resultdf = pd.DataFrame(resultdf)"
   ]
  },
  {
   "cell_type": "markdown",
   "metadata": {},
   "source": [
    "## calculating rogue score"
   ]
  },
  {
   "cell_type": "code",
   "execution_count": 19,
   "metadata": {},
   "outputs": [
    {
     "data": {
      "text/plain": [
       "{'rouge-1': {'r': 0.3416131258146902,\n",
       "  'p': 0.4527089427163319,\n",
       "  'f': 0.3800432569333121},\n",
       " 'rouge-2': {'r': 0.15453648858318156,\n",
       "  'p': 0.21279432872786946,\n",
       "  'f': 0.17343168991175326},\n",
       " 'rouge-l': {'r': 0.3224864629101037,\n",
       "  'p': 0.4273725747172634,\n",
       "  'f': 0.35877483938320526}}"
      ]
     },
     "execution_count": 19,
     "metadata": {},
     "output_type": "execute_result"
    }
   ],
   "source": [
    "def calculate_rouge(summaries, references):\n",
    "    rouge_calculator = Rouge()\n",
    "    scores = rouge_calculator.get_scores(summaries, references, avg=True)\n",
    "    rouge_score = scores\n",
    "    return rouge_score\n",
    "calculate_rouge(resultdf['generated_text'],resultdf['actual_text'])"
   ]
  },
  {
   "cell_type": "code",
   "execution_count": null,
   "metadata": {},
   "outputs": [],
   "source": []
  }
 ],
 "metadata": {
  "kernelspec": {
   "display_name": "Python 3",
   "language": "python",
   "name": "python3"
  },
  "language_info": {
   "codemirror_mode": {
    "name": "ipython",
    "version": 3
   },
   "file_extension": ".py",
   "mimetype": "text/x-python",
   "name": "python",
   "nbconvert_exporter": "python",
   "pygments_lexer": "ipython3",
   "version": "3.10.12"
  }
 },
 "nbformat": 4,
 "nbformat_minor": 2
}
